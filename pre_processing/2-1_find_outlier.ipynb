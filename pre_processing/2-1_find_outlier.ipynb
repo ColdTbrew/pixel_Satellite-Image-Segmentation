{
 "cells": [
  {
   "cell_type": "code",
   "execution_count": null,
   "id": "bc94299a-0cfd-4ef2-8eb4-1983e36a45ac",
   "metadata": {},
   "outputs": [],
   "source": [
    "import os, cv2\n",
    "import mmcv\n",
    "import torch\n",
    "from tqdm import tqdm\n",
    "from argparse import ArgumentParser\n",
    "from mmseg.apis import init_model, inference_model\n",
    "\n",
    "import pandas as pd\n",
    "import numpy as np\n",
    "import json\n",
    "import numpy as np\n",
    "import matplotlib.pyplot as plt\n",
    "\n",
    "palette = np.array([[0, 0, 0], [0, 0, 255]])\n",
    "def rle_decode(mask_rle, shape):\n",
    "    s = mask_rle.split()\n",
    "    starts, lengths = [np.asarray(x, dtype=int) for x in (s[0:][::2], s[1:][::2])]\n",
    "    starts -= 1\n",
    "    ends = starts + lengths\n",
    "    img = np.zeros(shape[0]*shape[1], dtype=np.uint8)\n",
    "    for lo, hi in zip(starts, ends):\n",
    "        img[lo:hi] = 1\n",
    "    return img.reshape(shape)\n",
    "\n",
    "def check():\n",
    "    check_dir = \"/home/jovyan/work/prj_data/open/train_img\"\n",
    "    img_list = [f for f in os.listdir(check_dir) if os.path.splitext(f)[1] == \".png\"]\n",
    "    img_list.sort()\n",
    "    anno_pd = pd.read_csv(\"/home/jovyan/work/prj_data/open/train.csv\")\n",
    "    save_dir = \"/home/jovyan/work/work_space/data EDA/check_outlier\"\n",
    "    alpha = 0.65\n",
    "    for img_name in tqdm(img_list):\n",
    "        img_path = os.path.join(check_dir, img_name)\n",
    "        img = cv2.imread(img_path)\n",
    "        mask_rle = anno_pd[anno_pd[\"img_id\"]==os.path.splitext(img_name)[0]][\"mask_rle\"].values.tolist()[0]\n",
    "        mask = rle_decode(mask_rle, (img.shape[0], img.shape[1]))\n",
    "        mask = palette[mask]\n",
    "        blended = cv2.addWeighted(img, alpha, mask, (1-alpha), 0, dtype = cv2.CV_8U)\n",
    "        cv2.imwrite(os.path.join(save_dir, img_name), blended)\n",
    "        \n",
    "check()"
   ]
  }
 ],
 "metadata": {
  "kernelspec": {
   "display_name": "Python 3 (ipykernel)",
   "language": "python",
   "name": "python3"
  },
  "language_info": {
   "codemirror_mode": {
    "name": "ipython",
    "version": 3
   },
   "file_extension": ".py",
   "mimetype": "text/x-python",
   "name": "python",
   "nbconvert_exporter": "python",
   "pygments_lexer": "ipython3",
   "version": "3.8.15"
  }
 },
 "nbformat": 4,
 "nbformat_minor": 5
}
