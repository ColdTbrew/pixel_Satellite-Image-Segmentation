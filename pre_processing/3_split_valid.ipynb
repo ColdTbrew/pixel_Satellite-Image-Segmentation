{
 "cells": [
  {
   "cell_type": "code",
   "execution_count": 13,
   "id": "c95673ee-9f1b-4b1b-aed3-08f9f849aea9",
   "metadata": {},
   "outputs": [],
   "source": [
    "import mmcv\n",
    "import matplotlib.pyplot as plt\n",
    "import cv2\n",
    "import numpy as np\n",
    "import os"
   ]
  },
  {
   "cell_type": "code",
   "execution_count": 14,
   "id": "1aab3314-4805-4751-a575-cd63cd251398",
   "metadata": {},
   "outputs": [
    {
     "name": "stdout",
     "output_type": "stream",
     "text": [
      "[7, 18, 12, 9, 3, 2, 5, 13, 4, 1]\n"
     ]
    }
   ],
   "source": [
    "\n",
    "palette = np.array([[0, 0, 0], [0, 0, 255]])\n",
    "\n",
    "#outlier가 지워진 train images\n",
    "file_list = os.listdir('/home/jovyan/work/datasets/satellite3/train_img_erase_outlier')    \n",
    "\n",
    "# List of image paths\n",
    "img_paths = []\n",
    "for i in file_list:\n",
    "    file_name = os.path.join('/home/jovyan/work/datasets/satellite/annotations/all_train_val/', i)\n",
    "    img_paths.append(file_name)\n",
    "\n",
    "# Shuffle the image paths\n",
    "# np.random.shuffle(img_paths)\n",
    "\n",
    "# Split the image paths into train and val sets\n",
    "# train_paths = img_paths[:int(len(img_paths)*0.8)]\n",
    "# val_paths = img_paths[int(len(img_paths)*0.8):]\n",
    "\n",
    "# Calculate pixel 1 ratio for each image in train set\n",
    "\n",
    "pixel_ratios = []\n",
    "\n",
    "def f(img_paths):\n",
    "    ret = []\n",
    "    for img_path in img_paths:\n",
    "        # Load the mask image\n",
    "        mask = cv2.imread(img_path, cv2.IMREAD_GRAYSCALE)\n",
    "\n",
    "        # Calculate the pixel composition ratio\n",
    "        total_pixels = 1024 * 1024    \n",
    "        pixel_1_count = np.count_nonzero(mask == 1)\n",
    "        pixel_1_ratio = (pixel_1_count / total_pixels) * 100\n",
    "\n",
    "        ret.append(int(pixel_1_ratio))\n",
    "    return ret\n",
    "pixel_ratios = f(img_paths)\n",
    "print(pixel_ratios[:10])"
   ]
  },
  {
   "cell_type": "code",
   "execution_count": 22,
   "id": "f05246f3-cbc5-4e1a-9828-a5e35b5ac6da",
   "metadata": {},
   "outputs": [
    {
     "data": {
      "text/html": [
       "<div>\n",
       "<style scoped>\n",
       "    .dataframe tbody tr th:only-of-type {\n",
       "        vertical-align: middle;\n",
       "    }\n",
       "\n",
       "    .dataframe tbody tr th {\n",
       "        vertical-align: top;\n",
       "    }\n",
       "\n",
       "    .dataframe thead th {\n",
       "        text-align: right;\n",
       "    }\n",
       "</style>\n",
       "<table border=\"1\" class=\"dataframe\">\n",
       "  <thead>\n",
       "    <tr style=\"text-align: right;\">\n",
       "      <th></th>\n",
       "      <th>name</th>\n",
       "      <th>ratio</th>\n",
       "    </tr>\n",
       "  </thead>\n",
       "  <tbody>\n",
       "    <tr>\n",
       "      <th>0</th>\n",
       "      <td>/home/jovyan/work/datasets/satellite/annotatio...</td>\n",
       "      <td>7</td>\n",
       "    </tr>\n",
       "    <tr>\n",
       "      <th>1</th>\n",
       "      <td>/home/jovyan/work/datasets/satellite/annotatio...</td>\n",
       "      <td>18</td>\n",
       "    </tr>\n",
       "    <tr>\n",
       "      <th>2</th>\n",
       "      <td>/home/jovyan/work/datasets/satellite/annotatio...</td>\n",
       "      <td>12</td>\n",
       "    </tr>\n",
       "    <tr>\n",
       "      <th>3</th>\n",
       "      <td>/home/jovyan/work/datasets/satellite/annotatio...</td>\n",
       "      <td>9</td>\n",
       "    </tr>\n",
       "    <tr>\n",
       "      <th>4</th>\n",
       "      <td>/home/jovyan/work/datasets/satellite/annotatio...</td>\n",
       "      <td>3</td>\n",
       "    </tr>\n",
       "    <tr>\n",
       "      <th>...</th>\n",
       "      <td>...</td>\n",
       "      <td>...</td>\n",
       "    </tr>\n",
       "    <tr>\n",
       "      <th>6997</th>\n",
       "      <td>/home/jovyan/work/datasets/satellite/annotatio...</td>\n",
       "      <td>1</td>\n",
       "    </tr>\n",
       "    <tr>\n",
       "      <th>6998</th>\n",
       "      <td>/home/jovyan/work/datasets/satellite/annotatio...</td>\n",
       "      <td>3</td>\n",
       "    </tr>\n",
       "    <tr>\n",
       "      <th>6999</th>\n",
       "      <td>/home/jovyan/work/datasets/satellite/annotatio...</td>\n",
       "      <td>12</td>\n",
       "    </tr>\n",
       "    <tr>\n",
       "      <th>7000</th>\n",
       "      <td>/home/jovyan/work/datasets/satellite/annotatio...</td>\n",
       "      <td>1</td>\n",
       "    </tr>\n",
       "    <tr>\n",
       "      <th>7001</th>\n",
       "      <td>/home/jovyan/work/datasets/satellite/annotatio...</td>\n",
       "      <td>10</td>\n",
       "    </tr>\n",
       "  </tbody>\n",
       "</table>\n",
       "<p>7002 rows × 2 columns</p>\n",
       "</div>"
      ],
      "text/plain": [
       "                                                   name  ratio\n",
       "0     /home/jovyan/work/datasets/satellite/annotatio...      7\n",
       "1     /home/jovyan/work/datasets/satellite/annotatio...     18\n",
       "2     /home/jovyan/work/datasets/satellite/annotatio...     12\n",
       "3     /home/jovyan/work/datasets/satellite/annotatio...      9\n",
       "4     /home/jovyan/work/datasets/satellite/annotatio...      3\n",
       "...                                                 ...    ...\n",
       "6997  /home/jovyan/work/datasets/satellite/annotatio...      1\n",
       "6998  /home/jovyan/work/datasets/satellite/annotatio...      3\n",
       "6999  /home/jovyan/work/datasets/satellite/annotatio...     12\n",
       "7000  /home/jovyan/work/datasets/satellite/annotatio...      1\n",
       "7001  /home/jovyan/work/datasets/satellite/annotatio...     10\n",
       "\n",
       "[7002 rows x 2 columns]"
      ]
     },
     "execution_count": 22,
     "metadata": {},
     "output_type": "execute_result"
    }
   ],
   "source": [
    "import pandas as pd\n",
    "df = pd.DataFrame({'name' : img_paths,\n",
    "                   'ratio' : pixel_ratios})\n",
    "df"
   ]
  },
  {
   "cell_type": "code",
   "execution_count": 23,
   "id": "d63a260c-2c7e-475b-8f3c-8b3a6b139a42",
   "metadata": {},
   "outputs": [
    {
     "data": {
      "text/plain": [
       "ratio\n",
       "1     1330\n",
       "2      873\n",
       "4      661\n",
       "3      659\n",
       "5      593\n",
       "6      575\n",
       "7      452\n",
       "8      411\n",
       "9      370\n",
       "10     265\n",
       "11     212\n",
       "12     164\n",
       "13     114\n",
       "14      94\n",
       "15      67\n",
       "16      36\n",
       "19      23\n",
       "18      22\n",
       "17      16\n",
       "21      13\n",
       "22       9\n",
       "20       9\n",
       "24       6\n",
       "23       5\n",
       "26       5\n",
       "29       4\n",
       "25       3\n",
       "33       2\n",
       "31       2\n",
       "34       1\n",
       "35       1\n",
       "30       1\n",
       "28       1\n",
       "41       1\n",
       "47       1\n",
       "40       1\n",
       "Name: count, dtype: int64"
      ]
     },
     "execution_count": 23,
     "metadata": {},
     "output_type": "execute_result"
    }
   ],
   "source": [
    "df['ratio'].value_counts()"
   ]
  },
  {
   "cell_type": "code",
   "execution_count": 24,
   "id": "e85f8f6b-00b7-4714-965f-317a8670ea1f",
   "metadata": {},
   "outputs": [
    {
     "data": {
      "text/plain": [
       "ratio\n",
       "1     1330\n",
       "2      873\n",
       "4      661\n",
       "3      659\n",
       "5      593\n",
       "6      575\n",
       "7      452\n",
       "8      411\n",
       "9      370\n",
       "10     265\n",
       "11     212\n",
       "12     164\n",
       "13     114\n",
       "14      94\n",
       "15      67\n",
       "16      36\n",
       "25      23\n",
       "19      23\n",
       "18      22\n",
       "17      16\n",
       "21      13\n",
       "22       9\n",
       "20       9\n",
       "24       6\n",
       "23       5\n",
       "Name: count, dtype: int64"
      ]
     },
     "execution_count": 24,
     "metadata": {},
     "output_type": "execute_result"
    }
   ],
   "source": [
    "df.loc[df['ratio'] > 24, 'ratio'] = 25\n",
    "df['ratio'].value_counts()"
   ]
  },
  {
   "cell_type": "code",
   "execution_count": 6,
   "id": "209c9ba0-d513-477c-befe-7bbec0991453",
   "metadata": {},
   "outputs": [],
   "source": [
    "from collections import Counter\n",
    "import sklearn\n",
    "def count(img_paths):\n",
    "    y = f(img_paths)\n",
    "    category_counts = Counter(y)\n",
    "    plt.bar(category_counts.keys(), category_counts.values())"
   ]
  },
  {
   "cell_type": "code",
   "execution_count": 13,
   "id": "44516174-5501-4514-aa31-4cad17674076",
   "metadata": {},
   "outputs": [],
   "source": [
    "from sklearn.model_selection import train_test_split\n",
    "X_train, X_valid = train_test_split(df, stratify=df['ratio'], test_size=0.15)"
   ]
  },
  {
   "cell_type": "code",
   "execution_count": 14,
   "id": "23ec3695-6d0c-4224-b537-6436ab7ce6b5",
   "metadata": {},
   "outputs": [
    {
     "data": {
      "image/png": "[encoded data removed]",
      "text/plain": [
       "<Figure size 640x480 with 1 Axes>"
      ]
     },
     "metadata": {},
     "output_type": "display_data"
    }
   ],
   "source": [
    "count(X_train['name'])"
   ]
  },
  {
   "cell_type": "code",
   "execution_count": 15,
   "id": "0e61723a-134f-4e19-9d30-251185d45548",
   "metadata": {},
   "outputs": [
    {
     "data": {
      "image/png": "[encoded data removed]",
      "text/plain": [
       "<Figure size 640x480 with 1 Axes>"
      ]
     },
     "metadata": {},
     "output_type": "display_data"
    }
   ],
   "source": [
    "count(X_valid['name'])"
   ]
  },
  {
   "cell_type": "code",
   "execution_count": 12,
   "id": "bad731f5-2682-40ab-a01d-5c717e83cb50",
   "metadata": {},
   "outputs": [
    {
     "name": "stdout",
     "output_type": "stream",
     "text": [
      "/home/jovyan/work/datasets/satellite3\n"
     ]
    }
   ],
   "source": [
    "!pwd"
   ]
  },
  {
   "cell_type": "code",
   "execution_count": 19,
   "id": "f2c6417c-dd73-4dc4-86fd-7faf04aa7846",
   "metadata": {},
   "outputs": [
    {
     "name": "stdout",
     "output_type": "stream",
     "text": [
      "Train image count: 5951\n",
      "Val image count: 1051\n"
     ]
    }
   ],
   "source": [
    "# Create directories for split images\n",
    "train_dir = '/home/jovyan/work/datasets/satellite3/anno_train_img'\n",
    "val_dir = '/home/jovyan/work/datasets/satellite3/anno_valid_img'\n",
    "os.makedirs(train_dir, exist_ok=True)\n",
    "os.makedirs(val_dir, exist_ok=True)\n",
    "\n",
    "# Save train images and count the number of images\n",
    "train_image_count = 0\n",
    "for img_path in X_train['name']:\n",
    "    image = cv2.imread(img_path)\n",
    "    save_path = os.path.join(train_dir, os.path.basename(img_path))\n",
    "    cv2.imwrite(save_path, image)\n",
    "    train_image_count += 1\n",
    "\n",
    "# Save val images and count the number of images\n",
    "val_image_count = 0\n",
    "for img_path in X_valid['name']:\n",
    "    image = cv2.imread(img_path)\n",
    "    save_path = os.path.join(val_dir, os.path.basename(img_path))\n",
    "    cv2.imwrite(save_path, image)\n",
    "    val_image_count += 1\n",
    "\n",
    "print(f\"Train image count: {train_image_count}\")\n",
    "print(f\"Val image count: {val_image_count}\")\n"
   ]
  },
  {
   "cell_type": "code",
   "execution_count": 20,
   "id": "2c2f66b7-ad2b-40b4-bde0-babfc51cd04e",
   "metadata": {},
   "outputs": [
    {
     "name": "stdout",
     "output_type": "stream",
     "text": [
      "Original images copied to the split directories.\n"
     ]
    }
   ],
   "source": [
    "import os\n",
    "import shutil\n",
    "\n",
    "# Source directories\n",
    "image_source_dir = '/home/jovyan/work/datasets/satellite/images/all_train_val'\n",
    "anno_train_dir = '/home/jovyan/work/datasets/satellite3/anno_train_img'\n",
    "anno_val_dir = '/home/jovyan/work/datasets/satellite3/anno_valid_img'\n",
    "\n",
    "# Destination directories\n",
    "ori_train_dir = '/home/jovyan/work/datasets/satellite3/train_img'\n",
    "ori_val_dir = '/home/jovyan/work/datasets/satellite3/valid_img'\n",
    "os.makedirs(ori_train_dir, exist_ok=True)\n",
    "os.makedirs(ori_val_dir, exist_ok=True)\n",
    "\n",
    "# Get list of annotated image file names\n",
    "anno_train_files = [f for f in os.listdir(anno_train_dir) if os.path.isfile(os.path.join(anno_train_dir, f))]\n",
    "anno_val_files = [f for f in os.listdir(anno_val_dir) if os.path.isfile(os.path.join(anno_val_dir, f))]\n",
    "\n",
    "# Copy corresponding original images to destination directories\n",
    "for file_name in anno_train_files:\n",
    "    image_file = os.path.join(image_source_dir, file_name.replace('.png', '.png'))\n",
    "    destination_file = os.path.join(ori_train_dir, file_name)\n",
    "    shutil.copyfile(image_file, destination_file)\n",
    "\n",
    "for file_name in anno_val_files:\n",
    "    image_file = os.path.join(image_source_dir, file_name.replace('.png', '.png'))\n",
    "    destination_file = os.path.join(ori_val_dir, file_name)\n",
    "    shutil.copyfile(image_file, destination_file)\n",
    "print(\"Original images copied to the split directories.\")\n"
   ]
  },
  {
   "cell_type": "code",
   "execution_count": 20,
   "id": "1dd605a9-7102-471e-85d8-bb8ccdb87204",
   "metadata": {},
   "outputs": [
    {
     "data": {
      "text/html": [
       "<div>\n",
       "<style scoped>\n",
       "    .dataframe tbody tr th:only-of-type {\n",
       "        vertical-align: middle;\n",
       "    }\n",
       "\n",
       "    .dataframe tbody tr th {\n",
       "        vertical-align: top;\n",
       "    }\n",
       "\n",
       "    .dataframe thead th {\n",
       "        text-align: right;\n",
       "    }\n",
       "</style>\n",
       "<table border=\"1\" class=\"dataframe\">\n",
       "  <thead>\n",
       "    <tr style=\"text-align: right;\">\n",
       "      <th></th>\n",
       "      <th>name</th>\n",
       "      <th>ratio</th>\n",
       "    </tr>\n",
       "  </thead>\n",
       "  <tbody>\n",
       "    <tr>\n",
       "      <th>0</th>\n",
       "      <td>/home/jovyan/work/datasets/satellite/annotatio...</td>\n",
       "      <td>7</td>\n",
       "    </tr>\n",
       "    <tr>\n",
       "      <th>1</th>\n",
       "      <td>/home/jovyan/work/datasets/satellite/annotatio...</td>\n",
       "      <td>18</td>\n",
       "    </tr>\n",
       "    <tr>\n",
       "      <th>2</th>\n",
       "      <td>/home/jovyan/work/datasets/satellite/annotatio...</td>\n",
       "      <td>12</td>\n",
       "    </tr>\n",
       "    <tr>\n",
       "      <th>3</th>\n",
       "      <td>/home/jovyan/work/datasets/satellite/annotatio...</td>\n",
       "      <td>9</td>\n",
       "    </tr>\n",
       "    <tr>\n",
       "      <th>4</th>\n",
       "      <td>/home/jovyan/work/datasets/satellite/annotatio...</td>\n",
       "      <td>3</td>\n",
       "    </tr>\n",
       "    <tr>\n",
       "      <th>...</th>\n",
       "      <td>...</td>\n",
       "      <td>...</td>\n",
       "    </tr>\n",
       "    <tr>\n",
       "      <th>6997</th>\n",
       "      <td>/home/jovyan/work/datasets/satellite/annotatio...</td>\n",
       "      <td>1</td>\n",
       "    </tr>\n",
       "    <tr>\n",
       "      <th>6998</th>\n",
       "      <td>/home/jovyan/work/datasets/satellite/annotatio...</td>\n",
       "      <td>3</td>\n",
       "    </tr>\n",
       "    <tr>\n",
       "      <th>6999</th>\n",
       "      <td>/home/jovyan/work/datasets/satellite/annotatio...</td>\n",
       "      <td>12</td>\n",
       "    </tr>\n",
       "    <tr>\n",
       "      <th>7000</th>\n",
       "      <td>/home/jovyan/work/datasets/satellite/annotatio...</td>\n",
       "      <td>1</td>\n",
       "    </tr>\n",
       "    <tr>\n",
       "      <th>7001</th>\n",
       "      <td>/home/jovyan/work/datasets/satellite/annotatio...</td>\n",
       "      <td>10</td>\n",
       "    </tr>\n",
       "  </tbody>\n",
       "</table>\n",
       "<p>7002 rows × 2 columns</p>\n",
       "</div>"
      ],
      "text/plain": [
       "                                                   name  ratio\n",
       "0     /home/jovyan/work/datasets/satellite/annotatio...      7\n",
       "1     /home/jovyan/work/datasets/satellite/annotatio...     18\n",
       "2     /home/jovyan/work/datasets/satellite/annotatio...     12\n",
       "3     /home/jovyan/work/datasets/satellite/annotatio...      9\n",
       "4     /home/jovyan/work/datasets/satellite/annotatio...      3\n",
       "...                                                 ...    ...\n",
       "6997  /home/jovyan/work/datasets/satellite/annotatio...      1\n",
       "6998  /home/jovyan/work/datasets/satellite/annotatio...      3\n",
       "6999  /home/jovyan/work/datasets/satellite/annotatio...     12\n",
       "7000  /home/jovyan/work/datasets/satellite/annotatio...      1\n",
       "7001  /home/jovyan/work/datasets/satellite/annotatio...     10\n",
       "\n",
       "[7002 rows x 2 columns]"
      ]
     },
     "execution_count": 20,
     "metadata": {},
     "output_type": "execute_result"
    }
   ],
   "source": [
    "df"
   ]
  },
  {
   "cell_type": "code",
   "execution_count": 18,
   "id": "20b6017d-b4ae-40fa-8952-387fab0aec79",
   "metadata": {},
   "outputs": [],
   "source": [
    "import os\n",
    "import pandas as pd\n",
    "from sklearn.model_selection import StratifiedKFold\n",
    "import shutil"
   ]
  },
  {
   "cell_type": "code",
   "execution_count": 19,
   "id": "f30ae638-b8ea-481c-a9a0-c517b762ca57",
   "metadata": {},
   "outputs": [],
   "source": [
    "k = 4\n",
    "skf = StratifiedKFold(n_splits=k, shuffle=True, random_state=42)"
   ]
  },
  {
   "cell_type": "code",
   "execution_count": 25,
   "id": "0011a0b6-bda2-40a3-a4c8-39e2f9bd08d8",
   "metadata": {},
   "outputs": [],
   "source": [
    "# 폴더 생성 함수\n",
    "def create_dir_if_not_exists(dir_path):\n",
    "    if not os.path.exists(dir_path):\n",
    "        os.makedirs(dir_path)\n",
    "\n",
    "# K-Fold 데이터 분할 및 Train, Validation 폴더에 이미지 복사\n",
    "for fold_idx, (train_index, val_index) in enumerate(skf.split(df, df['ratio'])):\n",
    "    train_df, val_df = df.iloc[train_index], df.iloc[val_index]\n",
    "    \n",
    "    # 폴더 생성\n",
    "    train_dir = os.path.join(f'/home/jovyan/work/datasets/satellite3/kfold/fold_{fold_idx + 1}', 'train')\n",
    "    val_dir = os.path.join(f'/home/jovyan/work/datasets/satellite3/kfold/fold_{fold_idx + 1}', 'valid')\n",
    "    create_dir_if_not_exists(train_dir)\n",
    "    create_dir_if_not_exists(val_dir)\n",
    "    \n",
    "    # Train 데이터 복사\n",
    "    for _, row in train_df.iterrows():\n",
    "        src_path = row['name']\n",
    "        file_name = os.path.basename(src_path)\n",
    "        src_path = os.path.join('/home/jovyan/work/datasets/satellite3/train_img_erase_outlier', file_name)\n",
    "        dst_path = os.path.join(train_dir, file_name)\n",
    "        shutil.copy(src_path, dst_path)\n",
    "    \n",
    "    # Validation 데이터 복사\n",
    "    for _, row in val_df.iterrows():\n",
    "        src_path = row['name']\n",
    "        file_name = os.path.basename(src_path)\n",
    "        src_path = os.path.join('/home/jovyan/work/datasets/satellite3/train_img_erase_outlier', file_name)\n",
    "        dst_path = os.path.join(val_dir, file_name)\n",
    "        shutil.copy(src_path, dst_path)"
   ]
  },
  {
   "cell_type": "code",
   "execution_count": null,
   "id": "5fba407c-342d-41c7-8e34-6de8dfa36b1a",
   "metadata": {},
   "outputs": [],
   "source": []
  }
 ],
 "metadata": {
  "kernelspec": {
   "display_name": "Python 3 (ipykernel)",
   "language": "python",
   "name": "python3"
  },
  "language_info": {
   "codemirror_mode": {
    "name": "ipython",
    "version": 3
   },
   "file_extension": ".py",
   "mimetype": "text/x-python",
   "name": "python",
   "nbconvert_exporter": "python",
   "pygments_lexer": "ipython3",
   "version": "3.8.15"
  }
 },
 "nbformat": 4,
 "nbformat_minor": 5
}
