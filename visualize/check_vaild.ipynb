{
 "cells": [
  {
   "cell_type": "code",
   "execution_count": 26,
   "id": "c2ae41b9-f5f3-41b6-9691-4733ccffe5b7",
   "metadata": {},
   "outputs": [
    {
     "name": "stdout",
     "output_type": "stream",
     "text": [
      "Loads checkpoint by local backend from path: /home/jovyan/work/work_space/uijin/submit/mmseg/ckpts/deeplabv3p_re.pth\n"
     ]
    },
    {
     "name": "stderr",
     "output_type": "stream",
     "text": [
      " 90%|█████████ | 9/10 [00:16<00:01,  1.85s/it]\n"
     ]
    },
    {
     "data": {
      "application/vnd.jupyter.widget-view+json": {
       "model_id": "d92cb4223fbc4e69a7c8c2cdec0992b2",
       "version_major": 2,
       "version_minor": 0
      },
      "text/plain": [
       "interactive(children=(IntSlider(value=0, description='idx', max=0), Output()), _dom_classes=('widget-interact'…"
      ]
     },
     "metadata": {},
     "output_type": "display_data"
    }
   ],
   "source": [
    "import os, cv2\n",
    "import mmcv\n",
    "import torch\n",
    "from tqdm import tqdm\n",
    "from mmseg.apis import init_model, inference_model\n",
    "from ipywidgets import widgets, interact\n",
    "\n",
    "import pandas as pd\n",
    "import numpy as np\n",
    "import json\n",
    "import matplotlib.pyplot as plt\n",
    "\n",
    "# pred, gt = 없음\n",
    "# pred O, gt X = [0, 0, 255] 파란색\n",
    "# pred X, gt O = [255, 0, 0] 빨간색\n",
    "# pred O, gt O = [0, 255, 0] 녹색\n",
    "\n",
    "palette = np.array([[0, 0, 0], [0, 0, 255], [255, 0, 0], [0, 255, 0]])\n",
    "check_num = 10\n",
    "dice_score_list = []\n",
    "\n",
    "def dice_score(prediction: np.array, ground_truth: np.array, smooth=1e-7):\n",
    "    intersection = np.sum(prediction * ground_truth)\n",
    "    return (2.0 * intersection + smooth) / (np.sum(prediction) + np.sum(ground_truth) + smooth)\n",
    "\n",
    "def calculate_dice(pred, gt):\n",
    "    if np.sum(gt) > 0 or np.sum(pred) > 0:\n",
    "        return dice_score(pred, gt)\n",
    "    else:\n",
    "        return None  # No valid masks found, return None\n",
    "\n",
    "def visualize(idx):\n",
    "    global dice_score_list, check_num\n",
    "    fig, ax = plt.subplots(check_num//2, 2, figsize=(30, 30))\n",
    "    fig.tight_layout()\n",
    "    plt.clf()\n",
    "    for i in range(check_num):\n",
    "        table = dice_score_list[idx*check_num + i]\n",
    "        img = cv2.imread(table[0])\n",
    "        mask = table[1]\n",
    "        mask = palette[mask]\n",
    "        plt.subplot(check_num // 2, 2, i+1)\n",
    "        plt.title(os.path.basename(table[0]) + \": \" + str(round(table[2], 4)))\n",
    "        plt.imshow(img)\n",
    "        plt.imshow(mask, alpha=0.5)\n",
    "    plt.show()\n",
    "\n",
    "def main():\n",
    "    img_dir = \"/home/jovyan/work/datasets/satellite/images/validation\"\n",
    "    anno_dir = \"/home/jovyan/work/datasets/satellite/annotations/validation\"\n",
    "    file_name = \"deeplabv3p_re\"\n",
    "    config_path = os.path.join('/home/jovyan/work/work_space/uijin/submit/mmseg/configs', file_name+\".py\")  \n",
    "    ckpt_path = os.path.join('/home/jovyan/work/work_space/uijin/submit/mmseg/ckpts', file_name+\".pth\")\n",
    "    device = \"cuda:1\"\n",
    "        \n",
    "        \n",
    "    model = init_model(config_path, ckpt_path, device)\n",
    "    img_list = [f for f in os.listdir(img_dir) if os.path.splitext(f)[1] == \".png\"]\n",
    "    # img_list = [\"TRAIN_\" + f + \".png\" for f in (\"0948\", \"2108\", \"4873\", \"1092\", \"5251\", \"2956\", \"1251\", \"4283\", \"1206\", \"1848\")]\n",
    "    global dice_score_list\n",
    "    i = 10\n",
    "    with torch.no_grad():\n",
    "        model.eval()\n",
    "        ratio = 2\n",
    "        for img_id in tqdm(img_list):\n",
    "            img_path = os.path.join(img_dir, img_id)\n",
    "            anno_path = os.path.join(anno_dir, img_id)\n",
    "            img = cv2.imread(img_path, 1)\n",
    "            anno = cv2.imread(anno_path, 0)\n",
    "            resized_img = cv2.resize(img, dsize=(int(img.shape[0]*ratio), int(img.shape[1]*ratio)))\n",
    "            resized_mask = inference_model(model, resized_img)\n",
    "            resized_mask = resized_mask.pred_sem_seg.data\n",
    "            resized_mask = torch.squeeze(resized_mask).cpu().numpy()\n",
    "            mask = cv2.resize(resized_mask.astype(\"float32\"), dsize=(img.shape[0], img.shape[1])).astype(\"int32\")\n",
    "            score = calculate_dice(mask, anno)\n",
    "            mask = 2*anno + mask\n",
    "            dice_score_list.append((img_path, mask, score))\n",
    "            # i -= 1\n",
    "            # if i == 0:\n",
    "            #     break\n",
    "    dice_score_list.sort(key = lambda x:x[2])\n",
    "    \n",
    "    start = 0\n",
    "    end = len(img_list) // check_toum - 1 \n",
    "    interact(visualize, idx=(start, end))\n",
    "if __name__ == \"__main__\":\n",
    "    main()"
   ]
  },
  {
   "cell_type": "code",
   "execution_count": null,
   "id": "71ce1a1d-cae6-40e7-b624-b51c596191e0",
   "metadata": {},
   "outputs": [],
   "source": [
    "0948, 2108, 4873, 1092, 5251, 2956, 1251, 4283, 1206, 1848"
   ]
  }
 ],
 "metadata": {
  "kernelspec": {
   "display_name": "Python 3 (ipykernel)",
   "language": "python",
   "name": "python3"
  },
  "language_info": {
   "codemirror_mode": {
    "name": "ipython",
    "version": 3
   },
   "file_extension": ".py",
   "mimetype": "text/x-python",
   "name": "python",
   "nbconvert_exporter": "python",
   "pygments_lexer": "ipython3",
   "version": "3.8.15"
  }
 },
 "nbformat": 4,
 "nbformat_minor": 5
}
