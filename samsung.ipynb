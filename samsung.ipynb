{
  "nbformat": 4,
  "nbformat_minor": 0,
  "metadata": {
    "colab": {
      "provenance": [],
      "gpuType": "T4",
      "authorship_tag": "ABX9TyOPiTUxcGMwuL7e9Pivale+",
      "include_colab_link": true
    },
    "kernelspec": {
      "name": "python3",
      "display_name": "Python 3"
    },
    "language_info": {
      "name": "python"
    },
    "accelerator": "GPU"
  },
  "cells": [
    {
      "cell_type": "markdown",
      "metadata": {
        "id": "view-in-github",
        "colab_type": "text"
      },
      "source": [
        "<a href=\"https://colab.research.google.com/github/ColdTbrew/pixel_Satellite-Image-Segmentation/blob/main/samsung.ipynb\" target=\"_parent\"><img src=\"https://colab.research.google.com/assets/colab-badge.svg\" alt=\"Open In Colab\"/></a>"
      ]
    },
    {
      "cell_type": "code",
      "source": [
        "!mkdir test\n",
        "%cd test"
      ],
      "metadata": {
        "colab": {
          "base_uri": "https://localhost:8080/"
        },
        "id": "ynx6ldl1Fs6j",
        "outputId": "7b52891f-b0b5-405c-8cad-28ddbe622171"
      },
      "execution_count": 1,
      "outputs": [
        {
          "output_type": "stream",
          "name": "stdout",
          "text": [
            "[Errno 2] No such file or directory: 'test'\n",
            "/content\n"
          ]
        }
      ]
    },
    {
      "cell_type": "code",
      "source": [
        "!gdown https://drive.google.com/u/1/uc?id=1kVnW36PJKp69OA0zvfwfRL85LjNT2wBL&export=download #pth 다운"
      ],
      "metadata": {
        "colab": {
          "base_uri": "https://localhost:8080/"
        },
        "id": "WIN0gXZ_IrFZ",
        "outputId": "604f57ef-949c-4675-c6ff-5733c4f797b6"
      },
      "execution_count": 2,
      "outputs": [
        {
          "output_type": "stream",
          "name": "stdout",
          "text": [
            "Downloading...\n",
            "From: https://drive.google.com/u/1/uc?id=1kVnW36PJKp69OA0zvfwfRL85LjNT2wBL\n",
            "To: /content/best_mIoU_iter_8000.pth\n",
            "100% 941M/941M [00:17<00:00, 52.4MB/s]\n"
          ]
        }
      ]
    },
    {
      "cell_type": "code",
      "execution_count": 3,
      "metadata": {
        "colab": {
          "base_uri": "https://localhost:8080/"
        },
        "id": "fNI3E5a50uS_",
        "outputId": "15ce23be-c9bf-4d0f-abcb-e92f04d7de2c"
      },
      "outputs": [
        {
          "output_type": "stream",
          "name": "stdout",
          "text": [
            "Downloading...\n",
            "From: https://drive.google.com/u/1/uc?id=1TqlR-ut5zRb4XoeMCYIXd7-aE9hSd0nB\n",
            "To: /content/test_image.tar\n",
            "100% 6.18G/6.18G [01:19<00:00, 77.5MB/s]\n"
          ]
        }
      ],
      "source": [
        "!gdown https://drive.google.com/u/1/uc?id=1TqlR-ut5zRb4XoeMCYIXd7-aE9hSd0nB&export=download #테스트 이미지 다운"
      ]
    },
    {
      "cell_type": "code",
      "source": [
        "!tar xf \"test_image.tar\""
      ],
      "metadata": {
        "id": "jrumZSwUAGva"
      },
      "execution_count": 4,
      "outputs": []
    },
    {
      "cell_type": "code",
      "source": [
        "%cd .."
      ],
      "metadata": {
        "colab": {
          "base_uri": "https://localhost:8080/"
        },
        "id": "p0dSVz1EA80F",
        "outputId": "91e602de-44da-4ec7-89e4-099901b060b1"
      },
      "execution_count": 5,
      "outputs": [
        {
          "output_type": "stream",
          "name": "stdout",
          "text": [
            "/\n"
          ]
        }
      ]
    },
    {
      "cell_type": "code",
      "source": [
        "!pip3 install openmim\n",
        "!mim install mmengine\n",
        "!mim install \"mmcv>=2.0.0\""
      ],
      "metadata": {
        "id": "0-gpHt1ZA9qA"
      },
      "execution_count": null,
      "outputs": []
    },
    {
      "cell_type": "code",
      "source": [
        "!git clone https://github.com/open-mmlab/mmsegmentation.git\n",
        "%cd mmsegmentation\n",
        "!git checkout main\n",
        "!pip install -e ."
      ],
      "metadata": {
        "id": "_2-nPssmJ4l1"
      },
      "execution_count": null,
      "outputs": []
    },
    {
      "cell_type": "code",
      "source": [
        "ls"
      ],
      "metadata": {
        "colab": {
          "base_uri": "https://localhost:8080/"
        },
        "id": "HUaqcM7RCeFT",
        "outputId": "21c533d7-87a2-4134-ac58-ba6cea600394"
      },
      "execution_count": 8,
      "outputs": [
        {
          "output_type": "stream",
          "name": "stdout",
          "text": [
            "CITATION.cff       LICENSE                   README.md         \u001b[0m\u001b[01;32msetup.py\u001b[0m*\n",
            "\u001b[01;34mconfigs\u001b[0m/           MANIFEST.in               README_zh-CN.md   \u001b[01;34mtests\u001b[0m/\n",
            "dataset-index.yml  \u001b[01;34mmmseg\u001b[0m/                    \u001b[01;34mrequirements\u001b[0m/     \u001b[01;34mtools\u001b[0m/\n",
            "\u001b[01;34mdemo\u001b[0m/              \u001b[01;34mmmsegmentation.egg-info\u001b[0m/  requirements.txt\n",
            "\u001b[01;34mdocker\u001b[0m/            model-index.yml           \u001b[01;34mresources\u001b[0m/\n",
            "\u001b[01;34mdocs\u001b[0m/              \u001b[01;34mprojects\u001b[0m/                 setup.cfg\n"
          ]
        }
      ]
    },
    {
      "cell_type": "code",
      "source": [
        "!python /content/infer.py"
      ],
      "metadata": {
        "id": "67on3pCnRmuK"
      },
      "execution_count": null,
      "outputs": []
    },
    {
      "cell_type": "code",
      "source": [],
      "metadata": {
        "id": "N13F3VnHm8Bs"
      },
      "execution_count": null,
      "outputs": []
    }
  ]
}